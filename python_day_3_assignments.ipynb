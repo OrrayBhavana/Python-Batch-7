{
  "nbformat": 4,
  "nbformat_minor": 0,
  "metadata": {
    "colab": {
      "name": "python day 3 assignments.ipynb",
      "provenance": []
    },
    "kernelspec": {
      "name": "python3",
      "display_name": "Python 3"
    }
  },
  "cells": [
    {
      "cell_type": "code",
      "metadata": {
        "id": "ZJgULf_npxqZ",
        "colab_type": "code",
        "colab": {
          "base_uri": "https://localhost:8080/",
          "height": 50
        },
        "outputId": "ae2cd725-37d6-46dc-bdfb-0dcaaee49367"
      },
      "source": [
        "#CONDITION\n",
        "n=int(input(\"enter the number=\"))\n",
        "if (n==1000):\n",
        "      print(\"safe to land\")\n",
        "elif n<=4500:\n",
        "    print(\" bring it to 1000ft \")\n",
        "else:\n",
        "    print(\"turn around\")\n"
      ],
      "execution_count": 2,
      "outputs": [
        {
          "output_type": "stream",
          "text": [
            "enter the number=1000\n",
            "safe to land\n"
          ],
          "name": "stdout"
        }
      ]
    },
    {
      "cell_type": "code",
      "metadata": {
        "id": "jl3_YgCMqYOV",
        "colab_type": "code",
        "colab": {
          "base_uri": "https://localhost:8080/",
          "height": 790
        },
        "outputId": "dd655bab-cfb7-474e-e69c-06650145edc9"
      },
      "source": [
        "#PRIME\n",
        "\n",
        "for i in range (1,200+1):\n",
        "    count=0\n",
        "    for k in range(1,i+1):\n",
        "        if (i%k ==0):\n",
        "            count+=1\n",
        "            \n",
        "    if (count==2):\n",
        "        print(i)\n"
      ],
      "execution_count": 3,
      "outputs": [
        {
          "output_type": "stream",
          "text": [
            "2\n",
            "3\n",
            "5\n",
            "7\n",
            "11\n",
            "13\n",
            "17\n",
            "19\n",
            "23\n",
            "29\n",
            "31\n",
            "37\n",
            "41\n",
            "43\n",
            "47\n",
            "53\n",
            "59\n",
            "61\n",
            "67\n",
            "71\n",
            "73\n",
            "79\n",
            "83\n",
            "89\n",
            "97\n",
            "101\n",
            "103\n",
            "107\n",
            "109\n",
            "113\n",
            "127\n",
            "131\n",
            "137\n",
            "139\n",
            "149\n",
            "151\n",
            "157\n",
            "163\n",
            "167\n",
            "173\n",
            "179\n",
            "181\n",
            "191\n",
            "193\n",
            "197\n",
            "199\n"
          ],
          "name": "stdout"
        }
      ]
    }
  ]
}