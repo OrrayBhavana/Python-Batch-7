{
  "nbformat": 4,
  "nbformat_minor": 0,
  "metadata": {
    "colab": {
      "name": "python day 4 assignments.ipynb",
      "provenance": []
    },
    "kernelspec": {
      "name": "python3",
      "display_name": "Python 3"
    }
  },
  "cells": [
    {
      "cell_type": "markdown",
      "metadata": {
        "id": "q3tgWmO77jsd",
        "colab_type": "text"
      },
      "source": [
        "Print first Armstrong number in the range of 1042000 to 702648265 and exit the loop as soon you encounter the first armstrong number\n",
        "# (Using while loop)"
      ]
    },
    {
      "cell_type": "code",
      "metadata": {
        "id": "slZI3D497nm-",
        "colab_type": "code",
        "colab": {
          "base_uri": "https://localhost:8080/",
          "height": 50
        },
        "outputId": "3d0ff34a-0d23-4abe-bc8e-88f5ffc9c73a"
      },
      "source": [
        "lower = int(input(\"Enter lower range: \"))  \n",
        "upper = int(input(\"Enter upper range: \"))  \n",
        "  \n",
        "for num in range(lower,upper + 1):  \n",
        "   sum = 0  \n",
        "   temp = num  \n",
        "   while temp > 0:  \n",
        "       digit = temp % 10  \n",
        "       sum += digit ** 3  \n",
        "       temp //= 10  \n",
        "       if num == sum:  \n",
        "            print(num)  "
      ],
      "execution_count": null,
      "outputs": [
        {
          "output_type": "stream",
          "text": [
            "Enter lower range: 1042000\n",
            "Enter upper range: 702648265\n"
          ],
          "name": "stdout"
        }
      ]
    }
  ]
}